{
 "cells": [
  {
   "cell_type": "code",
   "execution_count": null,
   "metadata": {},
   "outputs": [],
   "source": [
    "from pkasolver.query import draw_pka_map \n",
    "from pkasolver.query import draw_pka_reactions\n",
    "from pkasolver.query import calculate_microstate_pka_values \n",
    "from rdkit.Chem.Draw import IPythonConsole\n",
    "from rdkit import Chem\n",
    "IPythonConsole.molSize = 400,400"
   ]
  },
  {
   "cell_type": "code",
   "execution_count": null,
   "metadata": {},
   "outputs": [],
   "source": [
    "#  calculate microstate pka values from \n",
    "# first, generate mol\n",
    "mol = Chem.MolFromSmiles(\"O=C([O-])C[NH+](CCN(CC(=O)[O-])CC(=O)[O-])CC(=O)[O-]\")\n",
    "# predict pka values\n",
    "molpairs = calculate_microstate_pka_values(mol)"
   ]
  },
  {
   "cell_type": "code",
   "execution_count": null,
   "metadata": {},
   "outputs": [],
   "source": [
    "# draw the microstates\n",
    "draw_pka_reactions(molpairs)"
   ]
  },
  {
   "cell_type": "code",
   "execution_count": null,
   "metadata": {},
   "outputs": [],
   "source": [
    "# visualize them on the molecule at pH=7.0\n",
    "draw_pka_map(molpairs)"
   ]
  }
 ],
 "metadata": {
  "interpreter": {
   "hash": "2238d854a1993a20f5a2e769920d74e68befec1db0b55829c688fae57b1385d3"
  },
  "kernelspec": {
   "display_name": "Python 3.9.7 64-bit ('pkasolver': conda)",
   "language": "python",
   "name": "python3"
  },
  "language_info": {
   "codemirror_mode": {
    "name": "ipython",
    "version": 3
   },
   "file_extension": ".py",
   "mimetype": "text/x-python",
   "name": "python",
   "nbconvert_exporter": "python",
   "pygments_lexer": "ipython3",
   "version": "3.9.7"
  },
  "orig_nbformat": 4
 },
 "nbformat": 4,
 "nbformat_minor": 2
}
