{
 "cells": [
  {
   "cell_type": "markdown",
   "metadata": {},
   "source": [
    "### **Imports and setup** \n",
    "Import packages, the config.py and architecture.py files and set global parameters"
   ]
  },
  {
   "cell_type": "code",
   "execution_count": 1,
   "metadata": {},
   "outputs": [
    {
     "name": "stdout",
     "output_type": "stream",
     "text": [
      "Setting num threads to 1\n",
      "Pytorch will use cuda\n"
     ]
    }
   ],
   "source": [
    "from config import (\n",
    "    LEARNING_RATE,\n",
    "    NUM_EPOCHS,\n",
    "    TRAIN_SIZE,\n",
    "    FP_BITS,\n",
    "    FP_RADIUS,\n",
    "    node_feat_list,\n",
    "    edge_feat_list,\n",
    "    BATCH_SIZE,\n",
    "    NUM_ESTIMATORS,\n",
    ")\n",
    "from pkasolver.constants import SEED, DEVICE, node_feat_values, edge_feat_values\n",
    "from pkasolver.data import (\n",
    "    load_data,\n",
    "    preprocess_all,\n",
    "    train_validation_set_split,\n",
    "    make_stat_variables,\n",
    "    make_pyg_dataset_from_dataframe,\n",
    "    calculate_nr_of_features,\n",
    "    \n",
    ")\n",
    "from pkasolver.ml_architecture import (\n",
    "    gcn_full_training,\n",
    "    GCNPairSingleConv,\n",
    "    GCNPairTwoConv,\n",
    "    GCNProt,\n",
    "    GCNDeprot,\n",
    "    NNConvPair,\n",
    "    NNConvDeprot,\n",
    "    NNConvProt,\n",
    "    GATPair, \n",
    "    GATProt, \n",
    "    GINPairV1,\n",
    "    GINPairV2, \n",
    "    GINProt\n",
    "\n",
    ")\n",
    "from pkasolver.chem import generate_morgan_fp_array, calculate_tanimoto_coefficient\n",
    "from pkasolver.ml import dataset_to_dataloader, test_ml_model, test_graph_model\n",
    "from pkasolver.stat import compute_stats, compute_kl_divergence, calc_rmse\n",
    "import random\n",
    "import os\n",
    "import numpy as np\n",
    "import pandas as pd\n",
    "import seaborn as sns\n",
    "import copy\n",
    "import matplotlib.pyplot as plt\n",
    "import pickle\n",
    "from collections import defaultdict\n",
    "from rdkit.Chem.PandasTools import WriteSDF\n",
    "from rdkit import Chem\n",
    "\n",
    "\n",
    "\n",
    "plt.rcParams[\"figure.figsize\"] = (6.25, 6.25)\n",
    "# plt.rcParams[\"figure.figsize\"] = (12.5, 12.5)\n",
    "sns.set_theme(style=\"ticks\")\n",
    "\n",
    "from sklearn.ensemble import RandomForestRegressor\n",
    "from sklearn.cross_decomposition import PLSRegression\n",
    "from sklearn.metrics import r2_score\n",
    "from sklearn.metrics import mean_absolute_error\n",
    "from sklearn.metrics import mean_squared_error\n",
    "from IPython.display import display\n",
    "\n",
    "import torch\n",
    "from torch import optim\n",
    "from rdkit.Chem import Draw, Mol\n",
    "random.seed(SEED)\n",
    "imgdir = \"images_and_tables\"\n",
    "os.makedirs(imgdir, exist_ok=True)\n",
    "\n",
    "num_node_features = calculate_nr_of_features(node_feat_list)\n",
    "num_edge_features = calculate_nr_of_features(edge_feat_list)\n",
    "\n",
    "\n",
    "from pytorch_model_summary import summary"
   ]
  },
  {
   "cell_type": "code",
   "execution_count": 2,
   "metadata": {},
   "outputs": [],
   "source": [
    "def plot_results(results, title):\n",
    "    plt.plot(results['training-set'], label='training set')\n",
    "    plt.plot(results['validation-set'], label='validation set')\n",
    "    if title:\n",
    "        plt.title(title)\n",
    "    plt.ylim([0,4])\n",
    "    plt.legend()\n",
    "    plt.show()"
   ]
  },
  {
   "cell_type": "markdown",
   "metadata": {},
   "source": [
    "## **Data Preprocessing**"
   ]
  },
  {
   "cell_type": "markdown",
   "metadata": {},
   "source": [
    "#### **Import raw data**\n",
    "Load data from sdf files, create conjugate molescules and store them in pandas DataFrames"
   ]
  },
  {
   "cell_type": "code",
   "execution_count": 3,
   "metadata": {},
   "outputs": [
    {
     "name": "stdout",
     "output_type": "stream",
     "text": [
      "Loading data ...\n",
      "dict_keys(['Training', 'Novartis', 'Literature', 'train_split', 'val_split'])\n"
     ]
    },
    {
     "data": {
      "text/html": [
       "<div>\n",
       "<style scoped>\n",
       "    .dataframe tbody tr th:only-of-type {\n",
       "        vertical-align: middle;\n",
       "    }\n",
       "\n",
       "    .dataframe tbody tr th {\n",
       "        vertical-align: top;\n",
       "    }\n",
       "\n",
       "    .dataframe thead th {\n",
       "        text-align: right;\n",
       "    }\n",
       "</style>\n",
       "<table border=\"1\" class=\"dataframe\">\n",
       "  <thead>\n",
       "    <tr style=\"text-align: right;\">\n",
       "      <th></th>\n",
       "      <th>pKa</th>\n",
       "      <th>marvin_pKa</th>\n",
       "      <th>marvin_atom</th>\n",
       "      <th>marvin_pKa_type</th>\n",
       "      <th>original_dataset</th>\n",
       "      <th>ID</th>\n",
       "      <th>smiles</th>\n",
       "      <th>protonated</th>\n",
       "      <th>deprotonated</th>\n",
       "    </tr>\n",
       "  </thead>\n",
       "  <tbody>\n",
       "    <tr>\n",
       "      <th>536</th>\n",
       "      <td>9.7</td>\n",
       "      <td>9.63</td>\n",
       "      <td>4</td>\n",
       "      <td>basic</td>\n",
       "      <td>['chembl25']</td>\n",
       "      <td>871123</td>\n",
       "      <td>CC(C)(C)[NH2+]CC(O)c1cc(Cl)c(N)c(C(F)(F)F)c1</td>\n",
       "      <td><img data-content=\"rdkit/molecule\" src=\"data:image/png;base64,iVBORw0KGgoAAAANSUhEUgAAAMgAAADICAIAAAAiOjnJAAAABmJLR0QA/wD/AP+gvaeTAAAY0ElEQVR4nO2de1xTRxbHT0J4h0eIKBStiI/WoOiqrFbWWtTVoqAfXB/rCoqu2o9VsbW6tu5ni9pKbX3Utn5W0VrFXesKKi9FLWjXWh9IVFSsKIKCgmsQIiCRhJCzfwzGiIiQ3MkNYb4f/uBObmZOwo85M2fOzBUgIjAYXCPk2wCGdcKExaACExaDCkxYDCowYTGowITFoAITFoMKTFgMKjBhMajAhMWgAhMWgwpMWAwqMGExqMCExaACExaDCkxYDCowYTGowITFoAITFoMKTFgMKjBhMajAhMWgAhMWgwpMWAwqMGExqMCExaACExaDCkxYDCowYTGowITFoAITFoMKTFgMKjBhMajAhMWgAhMWgwpMWAwqMGExqMCExaACExaDCkxYDCowYTGowITFoIKIbwMY3HCwrKz+6e/jpFInIc9dBuuxrIRvS0ochULyI+DbGGA9ltVgIxCESqV8W/EMJiwroQ7x25ISAHjNzm6Spyff5jBhWQs2AENcXQHAxcaGb1sAmLCsBqFA8HsXF76teAYbvDOowIRlDdTU18/08uLbiudgwrIG9peVbS8tTVAo+DbkGUxY1kCGUvlEp/Oyt+fbkGcwYbV5StTqPJXKycZmCBu8MzgkQ6kEgHfc3Oz4XsYxxIJMYRhHplIJAKMkEr4NeQ4mrLZNqVp9g/hBV1e+bXkOJqy2TYZSiQDDLcwPAou8mxMdACCS3wUCASc5CJbpB4EJy5wsys8vr6tzFAoBYK6391A3NxMrLNXPBy3MDwITlplZ6ev7ppMTV7UdPnToDXv7N3v2tLcwPwhsjGVmFHV1JWp1iVrNSW1xX3yxJyysb14eJ7VxiwCfen0GbRbk58PTtJZYP79EheJNJ6e+YrFx/9y3b9/u3r27WCx+8OCBo6Mjp5ZyAHOFZmWRjw9xheV1dRvu3dMhSkSit9zcRkkkf3B1FbZmQJ+YmIiIYWFhFqgqYMLiCwSY3rHjcaWyVKNJLy9PLy/vaGs7QiIZJZEEtKwPS0xMBIDJkyfTNtU4mCs0H5/euRPVqZOfQQeDANdrajKVykylslSjIYWetrYjJJKRQmF/b2/hS0bld+7c8fPzc3Z2VigUrMdq76z29W1UIgCQOTvLnJ2jO3cufPIkU6k8qlQW19buUyjStm69npwcEhIyefLkkJAQkei5vxTxg+PHj7dMVQEAIMPCuFZTs7m4uNcbb+j/Rt7e3gsXLjx58mR9fT25JzAwEACSkpL4NbUZmCu0XK5du5aYmLh3796bN2+SEqlUOnbs2OHDh8+dO9eS/SCwMVab4MKFC4mJifv37y8oKNAX9uzZc9u2bcOGDbOxjG05jWDCakuQPuzLL7/U6XQajQae9mFNjsP4hQmrjXH37t2uXbs6OjouWLAgKSnp1q1bpLxTp05/+tOfJk+ebCl9GL9DPEZrWbduHQBMmzaNXF68ePGTTz7p0aOH/g/aqVOnZStXZldV1et0PNrJeqw2xuDBg8+fP3/w4MHw8HDDcuIl9+3bl5eXF75hQ/Hw4W4iUZCb2yiJZKirq4ibJJ1WwITVliB+0MnJSaFQOL0kSyInJ0cuEqUDFD9d6vYQiYIlklESyUCxmKwapZWXn66sJK+OcHcf7eHBuamvHu5VVFS4u7u/LATMMCf79u1DxLCwsJepCgD69+/fH2AOwE2VKvPRo0ylsri29kBZ2YGyMg+R6B2JZJREcl2l6i8Wv+3uDtTOenhFj1VYWBgSEjJixIgtW7bQaJ7RKogfPHDgwMSJE1v+LhLTz1Aqb9fWAoCrjc0YqbSfs/O7FDoqPa8Q1i+//DJmzJja2tp169YtXbqUkhGlpaXe3t4cJetaLfr5oEKhcHZ2NqKG/CdPMpVKIUBVff2Zyko3kQgAPu/WrTONna6vHN6npKTY2NgIBIL4+Hga04fz58937Nhx+fLlNCq3JtavXw8AU6dONb2qr4qLD5eXa3U6LbWZ46tHTuPHj//uu+8Qcc6cORkZGdzK+tChQ8HBwQqF4urVq1qtltvKrQxu82SEADYCgQ09L9FCAX700UcA4OrqeunSJa5EvXPnTltbWwCIiorSaDRcVWuVFBcXCwQCJyenx48fm17bV8XFR8rLTa+nGVoqLJ1OFxkZCQCvvfbanTt3TG947dq1RNnLly/X8RrKaxNw6AcRsaS2VllXx0lVL6MVkXe1Wj1q1CgAkMlkFRUVRjep1WrnzZsHADY2Nlu3bjW6nnbF4MGDAWD//v18G9JSWrekU1lZ2a9fPwB4++23nzx5YkR7jx8/HjduHAA4OzunpaUZUUM7hFs/aB5avVZYUlLy+uuvA8DkyZP1eWct5OHDh2+99RYASKXS06dPt7bpdsuGDRsAYMqUKXwb0gqMWYS+du2aRCIBgPnz57f8XQUFBT179gQAPz+/GzduGNFuu2XIkCHwNB25rWBkdsPJkyft7e0BYMOGDS25Pysrq2PHjgAQGBj44MED4xptn9y9e7fN+UE0WliIuG/fPqFQKBAIdu/e3fydKSkpZG1r9OjRVVVVRrfYPmmLfhBNERY+/cx2dnYZGRkvu2fHjh0ks3HWrFksWGUEbdEPoonCQsQPP/yQBE5zcnIavaTT6WJiYvTBKhMbap+0UT+IpgtLp9NFRESQwGlRUZG+vK6ubu7cuSRYFRcXZ2Ir7ZaNGzeSCTjfhrQaDlKT1Wr1yJEjAcDf358ETh8/fjx27FgSrDp06JDpTbRbSHQmISGBb0NaDTc575WVlQEBASRwWlRUNHDgQADo1KmTXC7npP52hVarvXLlyg8//BAVFSUUCh0cHNqcH0SuhIWIxcXFPj4+pJcCgF69ehUUFHBVudVTUlKSmpoaExMzatQow1wrqVQqEAj27t3Lt4Gthsuc971790ZERDg5OYnF4suXL5PAFaNJioqK5HJ5dnZ2dnb2hQsXKp9moBP8/PwGDRoUGBhYWlr69ddf29raHj58+I9//CNf1hoDVwpNTk4m271JdvzXX3/NVc3WgVKpzMjIiImJCQ0N7dSpU6O/gre3d2hoaExMTGpqaqMAcjPzbkuGG2F9//33JFg1e/bsPXv2kMDpv/71L04qb6NUVlaeOnVq06ZNkZGRMpmskZLc3NyCgoKio6Pj4+MLCwubqccwYclw3m3hcBBuIMEqgUAQExNDCsmmSjs7u8zMTFMNbINoNJrjx483UpKrq2twcPCyZcsSEhJu377dqgq5SlgyJyYJq66ubs6cOQAgEom2bdtm+NIHH3xAvs3Lly+bZmHbIy0tzdbW1tbWViaTzZs3Lz4+Pjc3t7WZIIhYXV195swZ8rvpCUtmxnhhVVdXh4SEAICzs/Phw4cbvVpfX0+ys318fNpQB84JM2bMAIA1a9aYUkllZeXAgQPFYnF2djYpuXfvHklYmjJlihEyNTNGCuv+/fsDBgwAAC8vr5cFq14MnLYH1Go1ySnKy8szpR6dTjd79mwA6NChgz7LKDc3l1T+/vvvc2EsRYwRVn5+PjmFonv37vn5+c3cWVFRIZPJpNI3p08vq6011sY2RVpaGgD079/f9Ko0Gs27775Lvuf//e9/pPC///0vSVjauHGj6U3Qo9XCOnv2rKenJwAMHjxYoVC88v6ioqLf/14FgNOmYXvYM9HID96/f9+UrSI1NTUkuyEwMFAff//Pf/5j+fPu1gkrKSmJBKsmTJhQU1PTwnddvYru7giAS5e23sA2hUajIa7q+vXrpMTf379r1643b940uk6FQkEyb8eNG1f3dGsNvXl3z564fn3D74sXY3o6ymSoH8hs24afftqielohrO3bt5Ng1V//+te6Vm4e+vlntLdHALTuuOmhQ4cAoF+/fuQyNzcXAKRSaWu/rkbcunWLLGPMmTNHX6ifd3MbOH3tNezfH8kGv7lzMTkZ/fxQvwfxn//ETz5pUT0tElaTwarWsncvCoUoFGIbXKpvKTNnzgSAzz//nFySL81QDUZz/vx5sob42WefkRJK824fH0xOxrAwRANhlZSgSoUqFX7zDXfCUqvV06dPJ8Gq7du3m2L0l18iANrZIedx09raWt5n4BqNxsPDw9APkoD7sWPHOKk/LS1NJBIJBIIdO3aQEk7m3RUV+NNPGBuL4eF46BD6+CAihoRgUtIzYQ0bhsHBGByMvXpxJKzq6moyMRGLxenp6caZbsjixQiAbm5oYtxUq9Xm5ubGx8dHR0cHBQU5ODjExsYeOXLEdAuNppEfvH79OvGDHCZkb9u2DQBsbW31n/TRo0ckYWn48OG1LZt4V1fjqVO4aRNGRqJMhkIhAjT8LFnSIKxbt7B3b4yMpOMKS0tLf/e735Fg1YULF1pU36uor8eJExGgobNt1Rvz8jAx8fLixYuHDh3a6OQxMksSi8U8ZoA18oMrV64k41FuW1mxYgUAODk5nT17lpTcu3evS5cuADB16tQmu+0nT56cO3du8+bNUVGzBgyot7F5piQAdHTEoUMxOhp378bCwgZhIWJMDDo5NS0slQovX8bmx40vFdZvv/3WtWtXAOjRo0fzwarWolLh0qV49SpOmYL6hfz338faWrxz5zkvWVKCqakYE4OhoSiVIgAOGpTeZEbAw4cPZ82aBQCenp6mTMGM5kU/6O/vDwBHjx7ltiGdTvfiJ7169aq7uzsALF26FBHr6uoadef6L61PnyqRCGUyjIzETZvw1Cls1M3JZA2/PHmCAQGYno6DBqFS2VC4cyeuWoULF+IPP+C8ec3Z+VJhkV2pQ4YMKSsrM/ZLaI5Ll1AiwcjIhktfX5TLcdkynDYNf/oJJ0/GDh2e+8cCwM6dMSKifM2aNceOHSt/4bAUjUYzZswYEk40/9bFw4cPA0BAQAC5zMvLAwCJRKJWqzlvq8lPmpmZaWdnRzqCRo+rsLGx6dOnT1RU1ObNm+XyB5xEqnU6bH5DWnOuMCcnR6VScWBFU1y6hGPH4siRePw4IqKvLz5+jDk5uHMn1tfjO+8gALq7Y1AQRkdjQgLev//qOquqqshCk2E40TxERUUZTtko+UE95JOKxeJTp07pC1evXu3x9PRHw+6cxnraxo3Y/JyEt3PeibByc9HfH2tr0dcXa2qwqgrv3kVEvHIFjZtBKxQKstwUGhpqYvSo5ej94G+//UZKKPlBQ+7fv99o4EsiW1OnTlXqXRcFNBpcsgS//x6bP8yKZ2Eh4tKlGBvbICxOyM/PJ+HEuXPnclPjqzCnH3wZOp2O5D5kZWVRbUipxLg4jIvD5jfA8y+s6mrs3Rs9PDgTFiJmZWWRcKKJuSstpJEfXLVqFQDMnj3bDE3rOX36NAB06dLFQk6x419YiJiQgABcCgsRU1NTSThx586dXNb7Ai/6wT59+gCAmYNqxA9+9NFH5my0GXgTVkUFPs1gQ0TMyEDOD3aIi4sj4USqY5309HQA6Nu3L7kkftDd3Z0XP3ju3DmzNdo8vAmLxBT09Ov3isGgcXz88ccA4OLiwlWA90VIVGn16tXkcvXq1QAwa9YsSs01yZkzZyzKD2JLjuNu08TGxs6cOZMsTOmfwMYhdXV1KSkpADBp0iRSkpSUZHhpHvQndVvQQxj4UvRPP+Ho0ZiT0/DzxhtUeiw0CCf26NGD88DpkSNHwMAPImJZWdm2bdvM7AfJGol+kccS4POZnLdugf4JPQ8f0mrF1tY2MTFx+PDhly5dCgsLO3HihHHPCzGktLRULpfL5fLdu3cDABEuoUOHDuSYHbORlZVVVFTUpUsXcrKypcCXos0zxtJTWlrq6+sLAKGhoVqttrVvf/To0ct2nzo5Ofn7+1dWVtIwuyUsWbIEAJYsWcKXAU1iQcIqLMTjx/HECVot5ufnk2z9995775U3V1ZW/vzzz+vWrZsyZUq3bt0a/Te6ubmNHDly+fLlO3fuJHnDwcHBLcxa4RbL9IPIo7DOn8e///3Z5YwZuG8fpqTgihVI70Stc+fOkXybL774otFLGo0mNzc3Li6O9EmNns9oZ2c3cOBAsiO+0e7T27dve3t7A8C0adPMPyk7e/YsAHTu3Nly5oMEi3sm9I8/4sGDFOtPTU0lDzPbsWOHYW6J/fOPVhOJRDKZLDIyctOmTadOnWp+MH7lyhU3NzcA+Pjjjyma3hTED3744YdmbveVWJaw7tzB+fOx9UOg1vHtt98CgFgsbqSkgICA2bNnb9myJTs7u7XTuhMnTpCslW+++YaS2S+i94P6nfiWgwUJ65dfMDgYjxxBMxzY1qVLF2dnZ19f34iIiE2bNv36668t3832Mvbs2SMQCIRCodmeeHPu3DnL9INoUcK6exflcpTLsaSEbkMFBQUA4OrqyvnpGmvWrAEABwcHwzQpepBn/X3wwQdmaKu1WJCwzEZsbCwAROqzVzll0aJFACCVSvU5ypTQ6XQkgGKZTyVqj8IiO0RSU1NpVK7VasmTwDt37nyXZC2aRn19/bVr1+Lj44+TXNunZGVlAYCPjw/v+96apN0Ji/hBFxcXeqdMqVSqoKAgAOjbt++jR4+MqEF/1m1oaKg+27jRU0/Is98t0w8iv0s6vJCQkAAAEyZMMNy7wi2Ojo4pKSlBQUFXr14NDw8/evQomTA2w71798gaUXZ2tlwur6ioMHz19ddfDwwMbHS47cGDB4G7R0RzD9/KNjdkt0VKSgrthgoLC728vADgL3/5y4uzNpVKlZ6evmrVqrCwMBJfNcTLyys0NHTlypWHDx9ucuHcwv0gtjdXWFBQIBAIqPpBQy5cuECiZStWrGj0UmlpqaGSXF1d9Wfd5ubmNlOnSqU6c+bMiBEjACA6Opqm+SbRvlwheXYIVT9oyIABA1JSUkJCQmJjY728vMiEkeDt7R0eHt6tW7fAwMBBgwaRnUVNotVqb9y4ceEpcrlcrVYDgKen571798zwKYyEb2WblZIpU7b/4Q/H6PtBQ/79738LBAIbG5sDBw605H5yLMWuXbsWLFgwePDgF9eaAgICQkNDSfnatWtp228c7UlYhYUoEKCLC5r91OHPPvsMABwdHX/99dcmbzCcBpKj2wzR7z7NyMjQb8RNSUkhi567du0y40dpKe1JWGvXIgBOn85L4wsXLgQAqVRKDr01VBJJ5mlSSeRYipfVuWXLFgCwtbXl6qQkDmlPwho4EAEwOZmXxrVabVhYGAB4eHg0+ciTsLCw1atXp6ent+RkVz3Lli0DABcXl4sXL9Iz3gi4fEiTRXP7NnTvDmIxPHgAz5+ZYTZUKlV4eLi9vX1aWpqrq2vfvn0HPoVsyTcCRIyKitq9e7e3t/fZs2dJsoNFwLeyzQU5TZAnP2hIYWEhtw/c02g0JHbau3fvFw/h4Yt202MFBoJcDsnJMGEC36ZwT2Vl5dtvv13/Zr3vSt/9b+x3EJojmNI87UNYFuAHaVNyv2RE+YibmpuT3Cft89snBJ53jFr5htUGEhMBEcLCrFVVAODj7ZPUI0liI9n/aP+C4gV8m9NOhHXxIgCAeXcnmx+Zgyy5e7KD0GHrw63rHqzj1xhrd4VFRXD5Mnh6goMD9O4Njx9DaSkEBDS8evo0DBoEz4e22zqplakTCyfqULfLd9cMjxl8mWHVPdb69TB1KuTmQnw8vPceVFdDdjasXfvshnnzoLycP/uoMN5t/Hedv0PAOUVzMqoy+DLDehehCwth61a4dq2hQ1q7FmJjYfRovs0yB/M95xdoCjY82DDp9qSTvU72d+xvfhust8fKyoLg4GduLiwMTp8GACgqgr17G36qqng0kCpf+Xz1Z8mfq+qrDigPNHpJBzqVTkXbAOvtsVQqMMyNcXSEmhoAALUaysoaCrVaHgwzC0IQ7vLdNdZtbKRHJAL+WPHjuZpzUpF0mmSaDnSL7i7K7JlJ1QDrFVbv3rBr17PLS5eAHObRqxdERzcUxsWZ3y6zYS+wj/SIBIB5xfOq66sXeS66r72/XrF+ScclZmjdeoU1dCjY2kJsLEREwJ078I9/QHw8xdOSLJWSupL0yvTCPoX2AnsAmOQ+6XrtdTO0a71jLABITweRCJYtg4QE+PFHCAyELl0gOPjZDZMmgclnZVk4N2pv+Dv6E1WZE+vtsQDAwQH+9rfnSvr0gT59nl2uWmVmi8yPg9BBo9OYv12r7rEYADIHWZ4676HW3GMAq+6xGADuNu6fen06Mn9klDRKi9pH9Y8iPCLM0K61L+kwAADgpvpmdk22ncDuHZd3HAQOOU9yhomHUW2RCYtBBTbGYlCBCYtBBSYsBhWYsBhUYMJiUIEJi0EFJiwGFZiwGFRgwmJQgQmLQQUmLAYVmLAYVGDCYlCBCYtBBSYsBhWYsBhUYMJiUIEJi0EFJiwGFZiwGFRgwmJQgQmLQQUmLAYVmLAYVGDCYlCBCYtBBSYsBhWYsBhUYMJiUIEJi0EFJiwGFZiwGFRgwmJQgQmLQQUmLAYVmLAYVGDCYlCBCYtBBSYsBhWYsBhUYMJiUIEJi0GF/wM0aJtB3G+VSwAAAYB6VFh0cmRraXRQS0wgcmRraXQgMjAyMS4wMy41AAB4nHu/b+09BiDgAWJGBggQgeIGRjaGBJA4MxuDApBmQXAhNLuCEYhmgkowMUFoZkY2Bw0QzcLmkAGikQXQaagCQbANjOwMYD4jE9RGTogwKsUBsZ6RG+hiRiagOxgYWRhYWBlY2RjY2BnYOTKYODgTOLkymLi4E7h5Mpi4eRm4+BQ4+Rn4BRj4BRn4hRjYhBl42BNEGNnYebi5ODnEYT5nEEnfu/tABM+TfSCO1s3pB05/4rEHsW+/TD/w8OtRMNtzx/YDEVzXwGzxL/kHpPSF9oPYVa8EDzA/6ATrrYhYsv8zxyawOP81W7v0zG4wm3Gxhn2CzGo7EDvWiMPB86wS2JzZH9wdLFf+AOu1WarpcDbqC1i9rfl0e91a3gMgdmVypsODr45gtszfSQ58YTZg9Xtr1RwmnWZ2AIufdHG4+DgOzP53qsEhleE02Pzfp6bZfxRTAoubv3+wf6eMCdgcMQCMRl39geUrWQAAAYd6VFh0TU9MIHJka2l0IDIwMjEuMDMuNQAAeJydldtKAzEQhu/3KfIChjnmcN1WBbGCF76D4KXvj5PMElK0pWYJy/9vNl8nM7PpFtr1fnz5/A7jouO2BYI2wt+j1ho+CAA2e/1BY0mpNgVRRKUxINoshEO4hphHp0jMouxrVSGtUTgm4r4Wo0papKjFguSUlIlWY8lS2fOiGWGinH9T5AqFIuW6Z5dS5bVYMFLh6oor1CWKrcDS62sUKHUtL7YiacmumGWRQhGp4M5jXdwRG0Vw792ieTWWpJA9L5ZcWKOgZRdlrzlCWd1RkpS9/4Avv6OvuykStbJ4XtA750bv3sgL9B2ZAl3sXdsRZCmupNBco8f7KRKBnGInQ7nol39QrEbZu46i8mIs1iVZM3ulreRzXt7upVgQ1O/NmOLZyGx0GFNpGFN5GFNlGFPVD6StqXZyuTGFOAwGpGEoIM9mRNBeGxE0wIjAFObZlNnUKbb2T7TPcA+v/85rCIfnpz7TdhawPTmdj9sP7EoOw24ZJyEAAAERelRYdFNNSUxFUyByZGtpdCAyMDIxLjAzLjUAAHicHZBNasQwDEav0mVCPUL/ksnSMHQ1PUDpKtseYQ5fyeBAeHz6/OS1jnXW+Xl98efvWsf3edN9H+t4nnWe53286lt/hT/ex8Mg3TPGA0HVFGNcD4VQYx8IZmhZRMBZ3AaBqVtnrDLETTyY5s6ETt5NFoRCxRg45tRm7JOzJwk4ZdqoH5k4NwkLGZVO0uq8EChN2ooAc9JGbhkSJSWijNXOQJzYxMWmWhPHahgMaFPGJYChEUNAk0v/UkDWyN4jrRwuAoruYDDZCalSRd/vkebuPVRlewcqceZ9j2FQ69UGyD3m6uVbNwq67OKk0u0nICyH8/0P4npTubPPwDoAAAAASUVORK5CYII=\" alt=\"Mol\"/></td>\n",
       "      <td><img data-content=\"rdkit/molecule\" src=\"data:image/png;base64,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\" alt=\"Mol\"/></td>\n",
       "    </tr>\n",
       "  </tbody>\n",
       "</table>\n",
       "</div>"
      ],
      "text/plain": [
       "     pKa marvin_pKa marvin_atom marvin_pKa_type original_dataset      ID  \\\n",
       "536  9.7       9.63           4           basic     ['chembl25']  871123   \n",
       "\n",
       "                                           smiles  \\\n",
       "536  CC(C)(C)[NH2+]CC(O)c1cc(Cl)c(N)c(C(F)(F)F)c1   \n",
       "\n",
       "                                            protonated  \\\n",
       "536  <img data-content=\"rdkit/molecule\" src=\"data:i...   \n",
       "\n",
       "                                          deprotonated  \n",
       "536  <img data-content=\"rdkit/molecule\" src=\"data:i...  "
      ]
     },
     "metadata": {},
     "output_type": "display_data"
    }
   ],
   "source": [
    "base = \"../../data/Baltruschat\"\n",
    "datasets = {\n",
    "    # \"Training\": f\"{base}/combined_training_datasets_unique.sdf\"\n",
    "    \"Training\": f\"{base}/combined_training_datasets_unique.sdf\",\n",
    "    \"Novartis\": f\"{base}/novartis_cleaned_mono_unique_notraindata.sdf\",\n",
    "    \"Literature\": f\"{base}/AvLiLuMoVe_cleaned_mono_unique_notraindata.sdf\",\n",
    "}\n",
    "\n",
    "# make sure the directory for saving the run data exists \n",
    "# run_data stores pickle files of the dicts containing dataset-Dataframes, morgan fingerprints and pyG graphs)\n",
    "run_filename = \"run_data\"\n",
    "os.makedirs(f\"{run_filename}/\", exist_ok=True)\n",
    "\n",
    "# check if saved dictonary of dataset-Dataframes is available and if so, import it\n",
    "if os.path.isfile(f\"{run_filename}/dataset_dfs.pkl\"):\n",
    "    print(\"Loading data ...\")\n",
    "    with open(f\"{run_filename}/dataset_dfs.pkl\", \"rb\") as pickle_file:\n",
    "        dataset_dfs = pickle.load(pickle_file)\n",
    "\n",
    "# create DataFrames for each dataset, store them in a dictonary and save it as as .pkl file in in the run_data folder\n",
    "else:\n",
    "    print(\"Generating data ...\")\n",
    "    # sdf_paths = load_data(\"../../data/Baltruschat/\")\n",
    "    sdf_paths = datasets\n",
    "    dataset_dfs = preprocess_all(sdf_paths) # load all datasets in Dataframes and calculate protonated and deprotonated conjugates\n",
    "    dataset_dfs[\"train_split\"], dataset_dfs[\"val_split\"] = train_validation_set_split(\n",
    "        dataset_dfs[\"Training\"], TRAIN_SIZE, SEED\n",
    "    ) # take a copy of the \"Training\" dataset, shuffle and split it into train and validation datasets and store them as Dataframe in respective dict   \n",
    "\n",
    "    with open(f\"{run_filename}/dataset_dfs.pkl\", \"wb\") as pickle_file:\n",
    "        pickle.dump(dataset_dfs, pickle_file)\n",
    "\n",
    "# notification\n",
    "print(dataset_dfs.keys())\n",
    "display(dataset_dfs[\"train_split\"].head(1))"
   ]
  },
  {
   "cell_type": "code",
   "execution_count": 4,
   "metadata": {},
   "outputs": [
    {
     "data": {
      "text/html": [
       "<div>\n",
       "<style scoped>\n",
       "    .dataframe tbody tr th:only-of-type {\n",
       "        vertical-align: middle;\n",
       "    }\n",
       "\n",
       "    .dataframe tbody tr th {\n",
       "        vertical-align: top;\n",
       "    }\n",
       "\n",
       "    .dataframe thead th {\n",
       "        text-align: right;\n",
       "    }\n",
       "</style>\n",
       "<table border=\"1\" class=\"dataframe\">\n",
       "  <thead>\n",
       "    <tr style=\"text-align: right;\">\n",
       "      <th></th>\n",
       "      <th>pKa</th>\n",
       "      <th>marvin_pKa</th>\n",
       "      <th>marvin_atom</th>\n",
       "      <th>marvin_pKa_type</th>\n",
       "      <th>original_dataset</th>\n",
       "      <th>ID</th>\n",
       "      <th>smiles</th>\n",
       "      <th>protonated</th>\n",
       "      <th>deprotonated</th>\n",
       "    </tr>\n",
       "  </thead>\n",
       "  <tbody>\n",
       "    <tr>\n",
       "      <th>1120</th>\n",
       "      <td>7.90</td>\n",
       "      <td>7.78</td>\n",
       "      <td>18</td>\n",
       "      <td>acidic</td>\n",
       "      <td>['chembl25']</td>\n",
       "      <td>13284696</td>\n",
       "      <td>CCC1(C)NC(=O)c2cc(S(=O)(=O)Nc3ccc(Cl)cc3)ccc2N...</td>\n",
       "      <td><img data-content=\"rdkit/molecule\" src=\"data:image/png;base64,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\" alt=\"Mol\"/></td>\n",
       "      <td><img data-content=\"rdkit/molecule\" src=\"data:image/png;base64,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\" alt=\"Mol\"/></td>\n",
       "    </tr>\n",
       "    <tr>\n",
       "      <th>2053</th>\n",
       "      <td>5.92</td>\n",
       "      <td>7.02</td>\n",
       "      <td>5</td>\n",
       "      <td>acidic</td>\n",
       "      <td>['datawarrior']</td>\n",
       "      <td>301</td>\n",
       "      <td>CN(C)c1nn[n-]n1</td>\n",
       "      <td><img data-content=\"rdkit/molecule\" src=\"data:image/png;base64,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\" alt=\"Mol\"/></td>\n",
       "      <td><img data-content=\"rdkit/molecule\" src=\"data:image/png;base64,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\" alt=\"Mol\"/></td>\n",
       "    </tr>\n",
       "    <tr>\n",
       "      <th>5485</th>\n",
       "      <td>10.10</td>\n",
       "      <td>8.62</td>\n",
       "      <td>20</td>\n",
       "      <td>basic</td>\n",
       "      <td>['chembl25']</td>\n",
       "      <td>12699342</td>\n",
       "      <td>O=c1cc(-c2ccccc2)c2ccccc2n1CC1C[NH+]2CCC1CC2</td>\n",
       "      <td><img data-content=\"rdkit/molecule\" src=\"data:image/png;base64,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\" alt=\"Mol\"/></td>\n",
       "      <td><img data-content=\"rdkit/molecule\" src=\"data:image/png;base64,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\" alt=\"Mol\"/></td>\n",
       "    </tr>\n",
       "    <tr>\n",
       "      <th>1794</th>\n",
       "      <td>8.30</td>\n",
       "      <td>8.4</td>\n",
       "      <td>2</td>\n",
       "      <td>basic</td>\n",
       "      <td>['datawarrior']</td>\n",
       "      <td>1917</td>\n",
       "      <td>CC[NH+](CC)C(C)(C)C=O</td>\n",
       "      <td><img data-content=\"rdkit/molecule\" src=\"data:image/png;base64,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\" alt=\"Mol\"/></td>\n",
       "      <td><img data-content=\"rdkit/molecule\" src=\"data:image/png;base64,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\" alt=\"Mol\"/></td>\n",
       "    </tr>\n",
       "  </tbody>\n",
       "</table>\n",
       "</div>"
      ],
      "text/plain": [
       "        pKa marvin_pKa marvin_atom marvin_pKa_type original_dataset        ID  \\\n",
       "1120   7.90       7.78          18          acidic     ['chembl25']  13284696   \n",
       "2053   5.92       7.02           5          acidic  ['datawarrior']       301   \n",
       "5485  10.10       8.62          20           basic     ['chembl25']  12699342   \n",
       "1794   8.30        8.4           2           basic  ['datawarrior']      1917   \n",
       "\n",
       "                                                 smiles  \\\n",
       "1120  CCC1(C)NC(=O)c2cc(S(=O)(=O)Nc3ccc(Cl)cc3)ccc2N...   \n",
       "2053                                    CN(C)c1nn[n-]n1   \n",
       "5485       O=c1cc(-c2ccccc2)c2ccccc2n1CC1C[NH+]2CCC1CC2   \n",
       "1794                              CC[NH+](CC)C(C)(C)C=O   \n",
       "\n",
       "                                             protonated  \\\n",
       "1120  <img data-content=\"rdkit/molecule\" src=\"data:i...   \n",
       "2053  <img data-content=\"rdkit/molecule\" src=\"data:i...   \n",
       "5485  <img data-content=\"rdkit/molecule\" src=\"data:i...   \n",
       "1794  <img data-content=\"rdkit/molecule\" src=\"data:i...   \n",
       "\n",
       "                                           deprotonated  \n",
       "1120  <img data-content=\"rdkit/molecule\" src=\"data:i...  \n",
       "2053  <img data-content=\"rdkit/molecule\" src=\"data:i...  \n",
       "5485  <img data-content=\"rdkit/molecule\" src=\"data:i...  \n",
       "1794  <img data-content=\"rdkit/molecule\" src=\"data:i...  "
      ]
     },
     "execution_count": 4,
     "metadata": {},
     "output_type": "execute_result"
    }
   ],
   "source": [
    "# for df in dataset_dfs.values():\n",
    "#     print(len(df))\n",
    "dataset_dfs['val_split'].head(4)"
   ]
  },
  {
   "cell_type": "code",
   "execution_count": 5,
   "metadata": {},
   "outputs": [
    {
     "data": {
      "image/png": "[encoded data removed]",
      "text/plain": [
       "<rdkit.Chem.rdchem.Mol at 0x7f0f277a2770>"
      ]
     },
     "execution_count": 5,
     "metadata": {},
     "output_type": "execute_result"
    }
   ],
   "source": [
    "dataset_dfs['val_split'].protonated.iloc[3]"
   ]
  },
  {
   "cell_type": "code",
   "execution_count": 6,
   "metadata": {},
   "outputs": [],
   "source": [
    "# df = dataset_dfs[\"Training\"]\n",
    "# col = list(dataset_dfs[\"Training\"].columns)\n",
    "# col.remove(\"protonated\")\n",
    "# col.remove(\"deprotonated\")\n",
    "\n",
    "# with open(f\"{run_filename}/chembl_prot.sdf\", \"w\") as prot, open(f\"{run_filename}/chembl_prot.sdf\", \"w\") as deprot:\n",
    "#     WriteSDF(df, prot, molColName='protonated', idName=None, properties=col, allNumeric=False)\n",
    "#     WriteSDF(df, deprot, molColName='deprotonated', idName=None, properties=col, allNumeric=False)\n",
    "\n"
   ]
  },
  {
   "cell_type": "code",
   "execution_count": 7,
   "metadata": {},
   "outputs": [],
   "source": [
    "# suppl_prot = Chem.SDMolSupplier(str(f\"{run_filename}/chembl_prot.sdf\"), removeHs=False)\n",
    "# suppl_deprot = Chem.SDMolSupplier(str(f\"{run_filename}/chembl_deprot.sdf\"), removeHs=False)\n",
    "# with Chem.SDWriter(f\"{run_filename}/chembl_pair.sdf\") as pair:\n",
    "#     for prot, deprot in zip(suppl_prot, suppl_deprot):\n",
    "#         pair.write(prot)\n",
    "#         pair.write(deprot)"
   ]
  },
  {
   "cell_type": "markdown",
   "metadata": {},
   "source": [
    "# **Calulate fingerprint based data**\n",
    "Create Fingerprints, target-value objects and add best tanimoto similarities of fps form external validation set molecules with those of the train molecules"
   ]
  },
  {
   "cell_type": "code",
   "execution_count": 8,
   "metadata": {},
   "outputs": [],
   "source": [
    "# # check if saved dictonary of fingerprint data is available and if so, import it\n",
    "# if os.path.isfile(f\"{run_filename}/fp_data.pkl\"):\n",
    "#     with open(f\"{run_filename}/fp_data.pkl\", \"rb\") as pickle_file:\n",
    "#         fp_data = pickle.load(pickle_file)\n",
    "\n",
    "# # create fingerprint arrays (dim: num molecules x fp bits) for each dataset, store them in a dictonary and save it as as .pkl file in in the run_data folder\n",
    "# else:\n",
    "#     fp_data = {}\n",
    "#     for name, df in dataset_dfs.items():\n",
    "#         X_feat, y = make_stat_variables(df, [], [\"pKa\"])\n",
    "#         X_prot = generate_morgan_fp_array(\n",
    "#             df, \"protonated\", nBits=FP_BITS, radius=FP_RADIUS, useFeatures=True\n",
    "#         )\n",
    "#         X_deprot = generate_morgan_fp_array(\n",
    "#             df, \"deprotonated\", nBits=FP_BITS, radius=FP_RADIUS, useFeatures=True\n",
    "#         )\n",
    "#         X = np.concatenate((X_prot, X_deprot), axis=1)\n",
    "#         fp_data[f\"{name}\"] = {\"prot\": X_prot, \"deprot\": X_deprot, \"pair\": X, \"y\": y}\n",
    "\n",
    "#     with open(f\"{run_filename}/fp_data.pkl\", \"wb\") as f:\n",
    "#         pickle.dump(fp_data, f)\n",
    "\n",
    "# # add max tanimotosimilarity to the Dataframes of external test sets\n",
    "#     train_name = \"train_split\"\n",
    "#     val_name = \"val_split\"\n",
    "#     training = \"Training\"\n",
    "#     for name, dataset in fp_data.items():\n",
    "#         if name in [train_name, val_name, training]:\n",
    "#             pass\n",
    "#         else:\n",
    "#             print(f\"calculating similarities for {name}\")\n",
    "#             max_scores = []\n",
    "#             for test_mol in dataset[\"prot\"]:\n",
    "#                 scores = []\n",
    "#                 for ref_mol in fp_data[train_name][\"prot\"]:\n",
    "#                     scores.append(calculate_tanimoto_coefficient(test_mol, ref_mol))\n",
    "#                 max_scores.append(max(scores))\n",
    "#             dataset_dfs[name][\"Similarity_max\"] = max_scores\n",
    "\n",
    "# with open(f\"{run_filename}/dataset_dfs.pkl\", \"wb\") as f:\n",
    "#     pickle.dump(dataset_dfs, f)\n",
    "\n",
    "# # notification\n",
    "# print(\"fp_data keys:\", fp_data.keys())\n",
    "# print(f\"calculated/loaded fingerprint data successfully\")\n"
   ]
  },
  {
   "cell_type": "markdown",
   "metadata": {},
   "source": [
    "# **Calculate graph data**\n",
    "Create graph data with node and edge features specified in the config file and prepare loaders"
   ]
  },
  {
   "cell_type": "code",
   "execution_count": 9,
   "metadata": {},
   "outputs": [
    {
     "name": "stdout",
     "output_type": "stream",
     "text": [
      "Loading data ...\n",
      "graph_data keys: dict_keys(['Training', 'Novartis', 'Literature', 'train_split', 'val_split'])\n",
      "Generating loader for Training\n",
      "Skipping unsplit Training dataset\n",
      "Generating loader for Novartis\n",
      "Generating loader for Literature\n",
      "Generating loader for train_split\n",
      "Generating loader for val_split\n",
      "loaders keys: dict_keys(['Novartis', 'Literature', 'train_split', 'val_split'])\n",
      "calculated/loaded graph data successfully\n"
     ]
    }
   ],
   "source": [
    "# check if saved dictonary of graph data is available and if so, import it\n",
    "if os.path.isfile(f\"{run_filename}/graph_data.pkl\"):\n",
    "    print(\"Loading data ...\")\n",
    "    with open(f\"{run_filename}/graph_data.pkl\", \"rb\") as f:\n",
    "        graph_data = pickle.load(f)\n",
    "\n",
    "# create list of 'PairData' graph objects for each dataset, store them in a dictonary and save it as as .pkl file in in the run_data folder\n",
    "else:\n",
    "    print(\"Generating data ...\")\n",
    "    graph_data = {}\n",
    "    for name, df in dataset_dfs.items():\n",
    "        print(f\"Generating data for: {name}\")\n",
    "        graph_data[name] = make_pyg_dataset_from_dataframe(\n",
    "            df, node_feat_list, edge_feat_list, paired=True\n",
    "        )\n",
    "    with open(f\"{run_filename}/graph_data.pkl\", \"wb\") as f:\n",
    "        pickle.dump(graph_data, f)\n",
    "\n",
    "print(\"graph_data keys:\", graph_data.keys())\n",
    "\n",
    "# create an iterable loader object from the list of graph data of each dataset and store them in a dictonary\n",
    "loaders = {}\n",
    "for name, dataset in graph_data.items():\n",
    "    print(f\"Generating loader for {name}\")\n",
    "    if name == \"Training\":\n",
    "        print(\"Skipping unsplit Training dataset\")\n",
    "        continue\n",
    "    elif name == \"train_split\" or name == \"val_split\":\n",
    "        loaders[name] = dataset_to_dataloader(dataset, BATCH_SIZE, shuffle=True) # Shuffling is essential to avoid overfitting on particular batches\n",
    "    else:\n",
    "        loaders[name] = dataset_to_dataloader(dataset, BATCH_SIZE, shuffle=False) # Testsets must not be shuffled in order to be able to calculate per datapoint predcitons with all graph and baselinemodels in the analysis part\n",
    "\n",
    "# notification\n",
    "print(\"loaders keys:\", loaders.keys())\n",
    "print(f\"calculated/loaded graph data successfully\")"
   ]
  },
  {
   "cell_type": "code",
   "execution_count": 10,
   "metadata": {},
   "outputs": [],
   "source": [
    "# from config import node_feat_values\n",
    "# pd.set_option('display.max_columns', None)\n",
    "# def color_positive_red(val):\n",
    "#     color = 'red' if val > 0 else 'black'\n",
    "#     return 'color: %s' % color\n",
    "\n",
    "# lst = graph_data['Novartis'][1].x_p\n",
    "\n",
    "\n",
    "# node_feat_names = []\n",
    "# for feat in node_feat_list:\n",
    "#     values = node_feat_values[feat]\n",
    "#     for value in values:\n",
    "#         node_feat_names.append(f'{feat} = {value}')\n",
    "\n",
    "# df = pd.DataFrame(lst, columns= node_feat_names, dtype=int)\n",
    "# df.style.applymap(color_positive_red)"
   ]
  },
  {
   "cell_type": "code",
   "execution_count": 11,
   "metadata": {},
   "outputs": [],
   "source": [
    "# graph_data['Novartis'][1].x_p\n"
   ]
  },
  {
   "cell_type": "markdown",
   "metadata": {},
   "source": [
    "**show feature value range**"
   ]
  },
  {
   "cell_type": "code",
   "execution_count": 12,
   "metadata": {},
   "outputs": [],
   "source": [
    "# # print all possible node feature values\n",
    "# values = [set() for i in range(len(node_feat_list))]\n",
    "# for dataset in graph_data.values():\n",
    "#     for entry in dataset:\n",
    "#         for i, row in enumerate(entry.x_p.cpu().T):\n",
    "#             values[i] = values[i] | set(row.numpy())\n",
    "#         for i, row in enumerate(entry.x_d.cpu().T):\n",
    "#             values[i] = values[i] | set(row.numpy())\n",
    "# print(\"Node features:\")\n",
    "# for name, values in zip(node_feat_list, values):\n",
    "#     x = list(values)\n",
    "#     x.sort()\n",
    "#     print(f\"{name}:{x}\")\n",
    "# print(\"\\n\")\n",
    "\n",
    "# # print all possible edge feature values\n",
    "# values = [set() for i in range(len(edge_feat_list))]\n",
    "# for dataset in graph_data.values():\n",
    "#     for entry in dataset:\n",
    "#         for i, row in enumerate(entry.edge_attr_p.cpu().T):\n",
    "#             values[i] = values[i] | set(row.numpy())\n",
    "#         for i, row in enumerate(entry.edge_attr_d.cpu().T):\n",
    "#             values[i] = values[i] | set(row.numpy())\n",
    "# print(\"Edge features:\")\n",
    "# for name, values in zip(edge_feat_list, values):\n",
    "#     x = list(values)\n",
    "#     x.sort()\n",
    "#     print(f\"{name}:{x}\")\n",
    "\n"
   ]
  },
  {
   "cell_type": "markdown",
   "metadata": {},
   "source": [
    "# **Training of predictive models**"
   ]
  },
  {
   "cell_type": "markdown",
   "metadata": {},
   "source": [
    "## **train baseline models**\n",
    "train all baseline models in protonated, deprotonated and pair mode"
   ]
  },
  {
   "cell_type": "code",
   "execution_count": 13,
   "metadata": {},
   "outputs": [],
   "source": [
    "# models_dict = {\n",
    "#     \"RFR\": RandomForestRegressor(\n",
    "#         n_estimators=NUM_ESTIMATORS, random_state=SEED\n",
    "#     ),  # Baltruschat n_estimatores = 1000\n",
    "#     \"PLS\": PLSRegression(),\n",
    "# }\n",
    "\n",
    "# baseline_models = {}\n",
    "# train_name = \"train_split\"\n",
    "# val_name = \"val_split\"\n",
    "\n",
    "# for model_name, model_template in models_dict.items():\n",
    "#     baseline_models[model_name] = {}\n",
    "#     for mode, X in fp_data[train_name].items():\n",
    "#         if mode == \"y\":\n",
    "#             continue\n",
    "#         path = f\"models/baseline/{model_name}/{mode}/\"\n",
    "#         if os.path.isfile(path + \"model.pkl\"):\n",
    "#             with open(path + \"model.pkl\", \"rb\") as pickle_file:\n",
    "#                 baseline_models[model_name][mode] = pickle.load(pickle_file)\n",
    "#         else:\n",
    "#             print(f\"Training {model_name}_{mode}...\")\n",
    "#             y = fp_data[train_name][\"y\"]\n",
    "#             y_val = fp_data[val_name][\"y\"]\n",
    "#             model = copy.deepcopy(model_template)\n",
    "#             model.fit(X, y)\n",
    "#             print(f\"{model_name}_{mode}: {model.score(fp_data[val_name][mode], y_val)}\")\n",
    "#             baseline_models[model_name][mode] = model\n",
    "#             os.makedirs(path, exist_ok=True)\n",
    "#             with open(path + \"model.pkl\", \"wb\") as pickle_file:\n",
    "#                 pickle.dump(model, pickle_file)\n",
    "# print(f\"trained/loaded baseline models successfully\")"
   ]
  },
  {
   "cell_type": "markdown",
   "metadata": {},
   "source": [
    "# **Train graph models**"
   ]
  },
  {
   "cell_type": "markdown",
   "metadata": {},
   "source": [
    "## **Training**\n",
    "train all graph models in protonated, deprotonated and pair mode"
   ]
  },
  {
   "cell_type": "code",
   "execution_count": 20,
   "metadata": {},
   "outputs": [
    {
     "name": "stdout",
     "output_type": "stream",
     "text": [
      "Attention pooling: False\n",
      "0\n",
      "Number of parameters:  13122\n",
      "Training GINPairV2 at epoch 0 ...\n",
      "LR: 0.001\n",
      "GINPairV2\n",
      "GINPairV2(71, 32, num_layers=3)\n",
      "Training on cuda.\n"
     ]
    },
    {
     "name": "stderr",
     "output_type": "stream",
     "text": [
      "Train MAE: 0.8410, Validation MAE: 0.8870: 100%|██████████| 41/41 [00:54<00:00,  1.33s/it]\n"
     ]
    },
    {
     "data": {
      "image/png": "[encoded data removed]",
      "text/plain": [
       "<Figure size 450x450 with 1 Axes>"
      ]
     },
     "metadata": {},
     "output_type": "display_data"
    },
    {
     "name": "stdout",
     "output_type": "stream",
     "text": [
      "Attention pooling: False\n",
      "0\n",
      "Number of parameters:  35489\n",
      "Training AttentiveProt at epoch 0 ...\n",
      "LR: 0.001\n",
      "AttentiveProt\n",
      "AttentiveProt(\n",
      "  (lin1): Linear(in_features=71, out_features=32, bias=True)\n",
      "  (atom_convs): ModuleList(\n",
      "    (0): GATEConv(\n",
      "      (lin1): Linear(in_features=38, out_features=32, bias=False)\n",
      "      (lin2): Linear(in_features=32, out_features=32, bias=False)\n",
      "    )\n",
      "    (1): GATConv(32, 32, heads=1)\n",
      "    (2): GATConv(32, 32, heads=1)\n",
      "  )\n",
      "  (atom_grus): ModuleList(\n",
      "    (0): GRUCell(32, 32)\n",
      "    (1): GRUCell(32, 32)\n",
      "    (2): GRUCell(32, 32)\n",
      "  )\n",
      "  (mol_conv): GATConv(32, 32, heads=1)\n",
      "  (mol_gru): GRUCell(32, 32)\n",
      "  (lin2): Linear(in_features=32, out_features=32, bias=True)\n",
      "  (lins): ModuleList(\n",
      "    (0): Linear(in_features=32, out_features=32, bias=True)\n",
      "    (1): Linear(in_features=32, out_features=1, bias=True)\n",
      "  )\n",
      ")\n",
      "Training on cuda.\n"
     ]
    },
    {
     "name": "stderr",
     "output_type": "stream",
     "text": [
      "Train MAE: 1.0150, Validation MAE: 1.0880: 100%|██████████| 41/41 [04:09<00:00,  6.08s/it]\n"
     ]
    },
    {
     "data": {
      "image/png": "[encoded data removed]",
      "text/plain": [
       "<Figure size 450x450 with 1 Axes>"
      ]
     },
     "metadata": {},
     "output_type": "display_data"
    },
    {
     "name": "stdout",
     "output_type": "stream",
     "text": [
      "Attention pooling: False\n",
      "0\n",
      "Number of parameters:  27585\n",
      "Training GINPairV1 at epoch 0 ...\n",
      "LR: 0.001\n",
      "GINPairV1\n",
      "GINPairV1(71, 32, num_layers=3)\n",
      "Training on cuda.\n"
     ]
    },
    {
     "name": "stderr",
     "output_type": "stream",
     "text": [
      "Train MAE: 0.8920, Validation MAE: 0.9970: 100%|██████████| 41/41 [00:54<00:00,  1.32s/it]\n"
     ]
    },
    {
     "data": {
      "image/png": "[encoded data removed]",
      "text/plain": [
       "<Figure size 450x450 with 1 Axes>"
      ]
     },
     "metadata": {},
     "output_type": "display_data"
    },
    {
     "name": "stdout",
     "output_type": "stream",
     "text": [
      "trained/loaded gcn models successfully\n"
     ]
    }
   ],
   "source": [
    "from pkasolver.ml_architecture import GINProt, GINPairV1,GINPairV2, AttentiveProt\n",
    "NUM_EPOCHS = 40\n",
    "\n",
    "# models = [('GCNPairSingleConv', GCNPairSingleConv), \n",
    "# ('GCNPairTwoConv', GCNPairTwoConv), \n",
    "# ('GCNProt', GCNProt), \n",
    "# ('GCNDeprot', GCNDeprot), \n",
    "# ('NNConvPair', NNConvPair), \n",
    "# ('NNConvDeprot', NNConvDeprot), \n",
    "# ('NNConvProt', NNConvProt )]\n",
    "\n",
    "models = [(\"GINPairV2\", GINPairV2), (\"AttentiveProt\", AttentiveProt), (\"GINPairV1\", GINPairV1), ]\n",
    "\n",
    "\n",
    "for model_name, model_class in models:\n",
    "    path = f\"models/gcn/{model_name}\"\n",
    "    os.makedirs(path, exist_ok=True)\n",
    "    pkl_file_name = f\"{path}\"\n",
    "    if os.path.isfile(pkl_file_name):\n",
    "        print('Attention: RELOADING model')\n",
    "        with open(pkl_file_name, \"rb\") as pickle_file:\n",
    "            model = pickle.load(pickle_file)\n",
    "    else:\n",
    "        model = model_class(num_node_features, num_edge_features, hidden_channels = 32)\n",
    "\n",
    "    if model.checkpoint[\"epoch\"] < NUM_EPOCHS:\n",
    "        model.to(device=DEVICE)\n",
    "        print(model.checkpoint[\"epoch\"])\n",
    "        optimizer = torch.optim.Adam(model.parameters(), lr=LEARNING_RATE)\n",
    "        print(\"Number of parameters: \", sum(p.numel() for p in model.parameters()))            \n",
    "        try:\n",
    "            optimizer.load_state_dict(model.checkpoint[\"optimizer_state\"])\n",
    "        except:\n",
    "            pass\n",
    "        scheduler = optim.lr_scheduler.ReduceLROnPlateau(\n",
    "            optimizer, patience=5, verbose=True\n",
    "        )\n",
    "\n",
    "        print(\n",
    "            f'Training {model_name} at epoch {model.checkpoint[\"epoch\"]} ...'\n",
    "        )\n",
    "        print(f'LR: {LEARNING_RATE}')\n",
    "        print(model_name)\n",
    "        print(model)\n",
    "        print(f'Training on {DEVICE}.')\n",
    "        results = gcn_full_training(\n",
    "            model.to(device=DEVICE),\n",
    "            loaders[\"train_split\"],\n",
    "            loaders[\"val_split\"],\n",
    "            optimizer,\n",
    "            pkl_file_name,\n",
    "            NUM_EPOCHS,\n",
    "        )\n",
    "\n",
    "        plot_results(results, f'{model_name}')\n",
    "        with open(f\"{path}/{model_name}.pkl\", \"wb\") as pickle_file:\n",
    "            pickle.dump(model.to(device='cpu'), pickle_file)\n",
    "print(f\"trained/loaded gcn models successfully\")"
   ]
  },
  {
   "cell_type": "code",
   "execution_count": 21,
   "metadata": {},
   "outputs": [
    {
     "data": {
      "text/plain": [
       "GINPairV1(71, 32, num_layers=3)"
      ]
     },
     "execution_count": 21,
     "metadata": {},
     "output_type": "execute_result"
    }
   ],
   "source": [
    "model"
   ]
  },
  {
   "cell_type": "code",
   "execution_count": null,
   "metadata": {},
   "outputs": [
    {
     "ename": "UnpicklingError",
     "evalue": "A load persistent id instruction was encountered,\nbut no persistent_load function was specified.",
     "output_type": "error",
     "traceback": [
      "\u001b[0;31m---------------------------------------------------------------------------\u001b[0m",
      "\u001b[0;31mUnpicklingError\u001b[0m                           Traceback (most recent call last)",
      "\u001b[0;32m/tmp/ipykernel_41829/96496175.py\u001b[0m in \u001b[0;36m<module>\u001b[0;34m\u001b[0m\n\u001b[1;32m      7\u001b[0m     \u001b[0;32mif\u001b[0m \u001b[0mos\u001b[0m\u001b[0;34m.\u001b[0m\u001b[0mpath\u001b[0m\u001b[0;34m.\u001b[0m\u001b[0misfile\u001b[0m\u001b[0;34m(\u001b[0m\u001b[0mpkl_file_name\u001b[0m\u001b[0;34m)\u001b[0m\u001b[0;34m:\u001b[0m\u001b[0;34m\u001b[0m\u001b[0;34m\u001b[0m\u001b[0m\n\u001b[1;32m      8\u001b[0m         \u001b[0;32mwith\u001b[0m \u001b[0mopen\u001b[0m\u001b[0;34m(\u001b[0m\u001b[0mpkl_file_name\u001b[0m\u001b[0;34m,\u001b[0m \u001b[0;34m'rb'\u001b[0m\u001b[0;34m)\u001b[0m \u001b[0;32mas\u001b[0m \u001b[0mpickle_file\u001b[0m\u001b[0;34m:\u001b[0m\u001b[0;34m\u001b[0m\u001b[0;34m\u001b[0m\u001b[0m\n\u001b[0;32m----> 9\u001b[0;31m             \u001b[0mmodel\u001b[0m \u001b[0;34m=\u001b[0m \u001b[0mpickle\u001b[0m\u001b[0;34m.\u001b[0m\u001b[0mload\u001b[0m\u001b[0;34m(\u001b[0m\u001b[0mpickle_file\u001b[0m\u001b[0;34m)\u001b[0m\u001b[0;34m\u001b[0m\u001b[0;34m\u001b[0m\u001b[0m\n\u001b[0m\u001b[1;32m     10\u001b[0m         \u001b[0mmodel\u001b[0m\u001b[0;34m.\u001b[0m\u001b[0mto\u001b[0m\u001b[0;34m(\u001b[0m\u001b[0mdevice\u001b[0m\u001b[0;34m=\u001b[0m\u001b[0;34m'cpu'\u001b[0m\u001b[0;34m)\u001b[0m\u001b[0;34m\u001b[0m\u001b[0;34m\u001b[0m\u001b[0m\n\u001b[1;32m     11\u001b[0m         \u001b[0mbest_loss\u001b[0m \u001b[0;34m=\u001b[0m \u001b[0mmax\u001b[0m\u001b[0;34m(\u001b[0m\u001b[0;34m[\u001b[0m\u001b[0mx\u001b[0m \u001b[0;32mfor\u001b[0m \u001b[0mx\u001b[0m \u001b[0;32min\u001b[0m \u001b[0mmodel\u001b[0m\u001b[0;34m.\u001b[0m\u001b[0mcheckpoint\u001b[0m\u001b[0;34m[\u001b[0m\u001b[0;34m'best_states'\u001b[0m\u001b[0;34m]\u001b[0m\u001b[0;34m.\u001b[0m\u001b[0mkeys\u001b[0m\u001b[0;34m(\u001b[0m\u001b[0;34m)\u001b[0m \u001b[0;32mif\u001b[0m \u001b[0mx\u001b[0m \u001b[0;34m<\u001b[0m \u001b[0;36m4_000\u001b[0m\u001b[0;34m]\u001b[0m\u001b[0;34m)\u001b[0m\u001b[0;34m\u001b[0m\u001b[0;34m\u001b[0m\u001b[0m\n",
      "\u001b[0;31mUnpicklingError\u001b[0m: A load persistent id instruction was encountered,\nbut no persistent_load function was specified."
     ]
    }
   ],
   "source": [
    "# graph_models = {}\n",
    "graph_models = {model}\n",
    "for model_name, model_class in models:\n",
    "    path = f\"models/gcn/{model_name}\"\n",
    "    os.makedirs(path, exist_ok=True)\n",
    "    pkl_file_name = f\"{path}/best_model.pt\"\n",
    "    if os.path.isfile(pkl_file_name):\n",
    "        with open(pkl_file_name, 'rb') as pickle_file:\n",
    "            model = pickle.load(pickle_file)\n",
    "        model.to(device='cpu')\n",
    "        best_loss = max([x for x in model.checkpoint['best_states'].keys() if x < 4_000]) \n",
    "        model.load_state_dict(model.checkpoint['best_states'][best_loss][1])\n",
    "        loss = model.checkpoint['best_states'][best_loss][0]\n",
    "        print(f'{model_name},Epoch {best_loss}, Loss:{loss}')\n",
    "        graph_models[model_name] = model\n",
    "    else:\n",
    "        print(f'{path} not found')"
   ]
  },
  {
   "cell_type": "code",
   "execution_count": 34,
   "metadata": {},
   "outputs": [
    {
     "name": "stdout",
     "output_type": "stream",
     "text": [
      "GINPairV1(71, 32, num_layers=3)\n"
     ]
    }
   ],
   "source": [
    "print(model)"
   ]
  },
  {
   "cell_type": "code",
   "execution_count": 22,
   "metadata": {},
   "outputs": [],
   "source": [
    "graph_models = {'test':model}"
   ]
  },
  {
   "cell_type": "code",
   "execution_count": 28,
   "metadata": {},
   "outputs": [
    {
     "data": {
      "text/plain": [
       "Batch(edge_index_p=[2, 3690], edge_index_d=[2, 3690], x_p=[1702, 71], x_p_batch=[1702], x_d=[1702, 71], x_d_batch=[1702], edge_attr_p=[3690, 6], edge_attr_d=[3690, 6], charge_prot=[64], charge_deprot=[64], num_nodes=1702, y=[64], ID=[64], batch=[1702], ptr=[65])"
      ]
     },
     "execution_count": 28,
     "metadata": {},
     "output_type": "execute_result"
    }
   ],
   "source": [
    "next(iter(loaders['Novartis']))"
   ]
  },
  {
   "cell_type": "code",
   "execution_count": 46,
   "metadata": {},
   "outputs": [
    {
     "name": "stdout",
     "output_type": "stream",
     "text": [
      "-----------------------------------------------------------------------\n",
      "      Layer (type)        Output Shape         Param #     Tr. Param #\n",
      "=======================================================================\n",
      "          Linear-1            [64, 32]           1,056           1,056\n",
      "          Linear-2             [64, 1]              33              33\n",
      "=======================================================================\n",
      "Total params: 1,089\n",
      "Trainable params: 1,089\n",
      "Non-trainable params: 0\n",
      "-----------------------------------------------------------------------\n",
      "\n",
      "\n",
      "========================================== Hierarchical Summary ==========================================\n",
      "\n",
      "GINPairV1(\n",
      "  (act): ReLU(inplace=True), 0 params\n",
      "  (convs): ModuleList(\n",
      "    (0): GINConv(\n",
      "      (nn): Sequential(\n",
      "        (0): Linear(in_features=71, out_features=32, bias=True), 2,304 params\n",
      "        (1): BatchNorm1d(32, eps=1e-05, momentum=0.1, affine=True, track_running_stats=True), 64 params\n",
      "        (2): ReLU(inplace=True), 0 params\n",
      "        (3): Linear(in_features=32, out_features=32, bias=True), 1,056 params\n",
      "      ), 3,424 params\n",
      "    ), 3,424 params\n",
      "    (1): GINConv(\n",
      "      (nn): Sequential(\n",
      "        (0): Linear(in_features=32, out_features=32, bias=True), 1,056 params\n",
      "        (1): BatchNorm1d(32, eps=1e-05, momentum=0.1, affine=True, track_running_stats=True), 64 params\n",
      "        (2): ReLU(inplace=True), 0 params\n",
      "        (3): Linear(in_features=32, out_features=32, bias=True), 1,056 params\n",
      "      ), 2,176 params\n",
      "    ), 2,176 params\n",
      "    (2): GINConv(\n",
      "      (nn): Sequential(\n",
      "        (0): Linear(in_features=32, out_features=32, bias=True), 1,056 params\n",
      "        (1): BatchNorm1d(32, eps=1e-05, momentum=0.1, affine=True, track_running_stats=True), 64 params\n",
      "        (2): ReLU(inplace=True), 0 params\n",
      "        (3): Linear(in_features=32, out_features=32, bias=True), 1,056 params\n",
      "      ), 2,176 params\n",
      "    ), 2,176 params\n",
      "  ), 7,776 params\n",
      "  (lin): Linear(in_features=32, out_features=32, bias=True), 1,056 params\n",
      "  (lins): ModuleList(\n",
      "    (0): Linear(in_features=32, out_features=32, bias=True), 1,056 params\n",
      "    (1): Linear(in_features=32, out_features=1, bias=True), 33 params\n",
      "  ), 1,089 params\n",
      "  (GIN_p): GINpKa(\n",
      "    (act): ReLU(inplace=True), 0 params\n",
      "    (convs): ModuleList(\n",
      "      (0): GINConv(\n",
      "        (nn): Sequential(\n",
      "          (0): Linear(in_features=71, out_features=32, bias=True), 2,304 params\n",
      "          (1): BatchNorm1d(32, eps=1e-05, momentum=0.1, affine=True, track_running_stats=True), 64 params\n",
      "          (2): ReLU(inplace=True), 0 params\n",
      "          (3): Linear(in_features=32, out_features=32, bias=True), 1,056 params\n",
      "        ), 3,424 params\n",
      "      ), 3,424 params\n",
      "      (1): GINConv(\n",
      "        (nn): Sequential(\n",
      "          (0): Linear(in_features=32, out_features=32, bias=True), 1,056 params\n",
      "          (1): BatchNorm1d(32, eps=1e-05, momentum=0.1, affine=True, track_running_stats=True), 64 params\n",
      "          (2): ReLU(inplace=True), 0 params\n",
      "          (3): Linear(in_features=32, out_features=32, bias=True), 1,056 params\n",
      "        ), 2,176 params\n",
      "      ), 2,176 params\n",
      "      (2): GINConv(\n",
      "        (nn): Sequential(\n",
      "          (0): Linear(in_features=32, out_features=32, bias=True), 1,056 params\n",
      "          (1): BatchNorm1d(32, eps=1e-05, momentum=0.1, affine=True, track_running_stats=True), 64 params\n",
      "          (2): ReLU(inplace=True), 0 params\n",
      "          (3): Linear(in_features=32, out_features=32, bias=True), 1,056 params\n",
      "        ), 2,176 params\n",
      "      ), 2,176 params\n",
      "    ), 7,776 params\n",
      "    (lin): Linear(in_features=32, out_features=32, bias=True), 1,056 params\n",
      "  ), 8,832 params\n",
      "  (GIN_d): GINpKa(\n",
      "    (act): ReLU(inplace=True), 0 params\n",
      "    (convs): ModuleList(\n",
      "      (0): GINConv(\n",
      "        (nn): Sequential(\n",
      "          (0): Linear(in_features=71, out_features=32, bias=True), 2,304 params\n",
      "          (1): BatchNorm1d(32, eps=1e-05, momentum=0.1, affine=True, track_running_stats=True), 64 params\n",
      "          (2): ReLU(inplace=True), 0 params\n",
      "          (3): Linear(in_features=32, out_features=32, bias=True), 1,056 params\n",
      "        ), 3,424 params\n",
      "      ), 3,424 params\n",
      "      (1): GINConv(\n",
      "        (nn): Sequential(\n",
      "          (0): Linear(in_features=32, out_features=32, bias=True), 1,056 params\n",
      "          (1): BatchNorm1d(32, eps=1e-05, momentum=0.1, affine=True, track_running_stats=True), 64 params\n",
      "          (2): ReLU(inplace=True), 0 params\n",
      "          (3): Linear(in_features=32, out_features=32, bias=True), 1,056 params\n",
      "        ), 2,176 params\n",
      "      ), 2,176 params\n",
      "      (2): GINConv(\n",
      "        (nn): Sequential(\n",
      "          (0): Linear(in_features=32, out_features=32, bias=True), 1,056 params\n",
      "          (1): BatchNorm1d(32, eps=1e-05, momentum=0.1, affine=True, track_running_stats=True), 64 params\n",
      "          (2): ReLU(inplace=True), 0 params\n",
      "          (3): Linear(in_features=32, out_features=32, bias=True), 1,056 params\n",
      "        ), 2,176 params\n",
      "      ), 2,176 params\n",
      "    ), 7,776 params\n",
      "    (lin): Linear(in_features=32, out_features=32, bias=True), 1,056 params\n",
      "  ), 8,832 params\n",
      "), 27,585 params\n",
      "\n",
      "\n",
      "==========================================================================================================\n",
      "\n"
     ]
    }
   ],
   "source": [
    "from pytorch_model_summary import summary\n",
    "x=next(iter(loaders['Novartis'])).to(device ='cuda')\n",
    "x.to(device ='cuda')\n",
    "graph_models['test'].to(device='cuda')\n",
    "\n",
    "print(summary(graph_models['test'], x.x_p, x.x_d, x.edge_attr_p, x.edge_attr_d, x, show_input=False, show_hierarchical=True))\n"
   ]
  },
  {
   "cell_type": "code",
   "execution_count": 49,
   "metadata": {},
   "outputs": [
    {
     "data": {
      "text/html": [
       "<div>\n",
       "<style scoped>\n",
       "    .dataframe tbody tr th:only-of-type {\n",
       "        vertical-align: middle;\n",
       "    }\n",
       "\n",
       "    .dataframe tbody tr th {\n",
       "        vertical-align: top;\n",
       "    }\n",
       "\n",
       "    .dataframe thead th {\n",
       "        text-align: right;\n",
       "    }\n",
       "</style>\n",
       "<table border=\"1\" class=\"dataframe\">\n",
       "  <thead>\n",
       "    <tr style=\"text-align: right;\">\n",
       "      <th></th>\n",
       "      <th>Dataset</th>\n",
       "      <th>pKa_true</th>\n",
       "      <th>test</th>\n",
       "    </tr>\n",
       "  </thead>\n",
       "  <tbody>\n",
       "    <tr>\n",
       "      <th>0</th>\n",
       "      <td>Novartis</td>\n",
       "      <td>8.55</td>\n",
       "      <td>7.668103</td>\n",
       "    </tr>\n",
       "    <tr>\n",
       "      <th>1</th>\n",
       "      <td>Novartis</td>\n",
       "      <td>5.50</td>\n",
       "      <td>5.358244</td>\n",
       "    </tr>\n",
       "    <tr>\n",
       "      <th>2</th>\n",
       "      <td>Novartis</td>\n",
       "      <td>4.50</td>\n",
       "      <td>5.275511</td>\n",
       "    </tr>\n",
       "    <tr>\n",
       "      <th>3</th>\n",
       "      <td>Novartis</td>\n",
       "      <td>5.50</td>\n",
       "      <td>5.538604</td>\n",
       "    </tr>\n",
       "    <tr>\n",
       "      <th>4</th>\n",
       "      <td>Novartis</td>\n",
       "      <td>5.00</td>\n",
       "      <td>5.147975</td>\n",
       "    </tr>\n",
       "    <tr>\n",
       "      <th>...</th>\n",
       "      <td>...</td>\n",
       "      <td>...</td>\n",
       "      <td>...</td>\n",
       "    </tr>\n",
       "    <tr>\n",
       "      <th>1194</th>\n",
       "      <td>val_split</td>\n",
       "      <td>6.70</td>\n",
       "      <td>5.492842</td>\n",
       "    </tr>\n",
       "    <tr>\n",
       "      <th>1195</th>\n",
       "      <td>val_split</td>\n",
       "      <td>6.02</td>\n",
       "      <td>4.898672</td>\n",
       "    </tr>\n",
       "    <tr>\n",
       "      <th>1196</th>\n",
       "      <td>val_split</td>\n",
       "      <td>6.76</td>\n",
       "      <td>6.664198</td>\n",
       "    </tr>\n",
       "    <tr>\n",
       "      <th>1197</th>\n",
       "      <td>val_split</td>\n",
       "      <td>2.59</td>\n",
       "      <td>2.846957</td>\n",
       "    </tr>\n",
       "    <tr>\n",
       "      <th>1198</th>\n",
       "      <td>val_split</td>\n",
       "      <td>5.62</td>\n",
       "      <td>4.619964</td>\n",
       "    </tr>\n",
       "  </tbody>\n",
       "</table>\n",
       "<p>1602 rows × 3 columns</p>\n",
       "</div>"
      ],
      "text/plain": [
       "        Dataset  pKa_true      test\n",
       "0      Novartis      8.55  7.668103\n",
       "1      Novartis      5.50  5.358244\n",
       "2      Novartis      4.50  5.275511\n",
       "3      Novartis      5.50  5.538604\n",
       "4      Novartis      5.00  5.147975\n",
       "...         ...       ...       ...\n",
       "1194  val_split      6.70  5.492842\n",
       "1195  val_split      6.02  4.898672\n",
       "1196  val_split      6.76  6.664198\n",
       "1197  val_split      2.59  2.846957\n",
       "1198  val_split      5.62  4.619964\n",
       "\n",
       "[1602 rows x 3 columns]"
      ]
     },
     "metadata": {},
     "output_type": "display_data"
    }
   ],
   "source": [
    "#Predictions of baseline and graph models\n",
    "\n",
    "for i,test_set in enumerate(['Novartis', 'Literature', 'val_split']):\n",
    "\n",
    "    df_gcn = test_graph_model(graph_models, loaders[test_set],test_set)\n",
    "    try:\n",
    "        df_ml = test_ml_model(baseline_models, fp_data[test_set], fp_data[test_set]['y'],test_set)\n",
    "        df= pd.concat([df_ml.drop(columns=['Dataset', 'pKa_true']),df_gcn],axis=1)\n",
    "    except:\n",
    "        df= pd.concat([df_gcn],axis=1)\n",
    "    torch.cuda.empty_cache()\n",
    "    if i == 0:\n",
    "        df_res = df\n",
    "    else:\n",
    "        df_res = pd.concat([df_res,df])\n",
    "display(df_res)"
   ]
  },
  {
   "cell_type": "code",
   "execution_count": 50,
   "metadata": {},
   "outputs": [
    {
     "data": {
      "text/html": [
       "<div>\n",
       "<style scoped>\n",
       "    .dataframe tbody tr th:only-of-type {\n",
       "        vertical-align: middle;\n",
       "    }\n",
       "\n",
       "    .dataframe tbody tr th {\n",
       "        vertical-align: top;\n",
       "    }\n",
       "\n",
       "    .dataframe thead tr th {\n",
       "        text-align: left;\n",
       "    }\n",
       "</style>\n",
       "<table border=\"1\" class=\"dataframe\">\n",
       "  <thead>\n",
       "    <tr>\n",
       "      <th></th>\n",
       "      <th colspan=\"3\" halign=\"left\">Novartis</th>\n",
       "      <th colspan=\"3\" halign=\"left\">Literature</th>\n",
       "      <th colspan=\"3\" halign=\"left\">val_split</th>\n",
       "    </tr>\n",
       "    <tr>\n",
       "      <th></th>\n",
       "      <th>R^2</th>\n",
       "      <th>RMSE</th>\n",
       "      <th>MAE</th>\n",
       "      <th>R^2</th>\n",
       "      <th>RMSE</th>\n",
       "      <th>MAE</th>\n",
       "      <th>R^2</th>\n",
       "      <th>RMSE</th>\n",
       "      <th>MAE</th>\n",
       "    </tr>\n",
       "  </thead>\n",
       "  <tbody>\n",
       "    <tr>\n",
       "      <th>test</th>\n",
       "      <td>0.555</td>\n",
       "      <td>1.537</td>\n",
       "      <td>1.188</td>\n",
       "      <td>0.782</td>\n",
       "      <td>1.101</td>\n",
       "      <td>0.849</td>\n",
       "      <td>0.699</td>\n",
       "      <td>1.313</td>\n",
       "      <td>0.998</td>\n",
       "    </tr>\n",
       "  </tbody>\n",
       "</table>\n",
       "</div>"
      ],
      "text/plain": [
       "     Novartis               Literature               val_split              \n",
       "          R^2   RMSE    MAE        R^2   RMSE    MAE       R^2   RMSE    MAE\n",
       "test    0.555  1.537  1.188      0.782  1.101  0.849     0.699  1.313  0.998"
      ]
     },
     "metadata": {},
     "output_type": "display_data"
    }
   ],
   "source": [
    "test= compute_stats(df_res, 'Dataset', 'pKa_true')\n",
    "test.to_csv(f'{imgdir}/stat_metrics.csv')\n",
    "display(test)"
   ]
  },
  {
   "cell_type": "markdown",
   "metadata": {},
   "source": [
    "Plot best model\n",
    "Plot the predictions of the best models for the validation and the two testsets"
   ]
  },
  {
   "cell_type": "code",
   "execution_count": 51,
   "metadata": {},
   "outputs": [],
   "source": [
    "def plot_results(df, x_col, y_col, hue_col = \"Dataset\"):\n",
    "    df = df.reset_index()\n",
    "    # Define plot canvas\n",
    "    g = sns.jointplot(data=df, x=x_col, y=y_col, hue=hue_col, xlim=(2,12), ylim=(2,12))\n",
    "\n",
    "    # Add fit_reg lines to plot \n",
    "    for _,gr in df.groupby(hue_col):\n",
    "        sns.regplot(x=x_col, y=y_col, data=gr, scatter=False, ax=g.ax_joint, truncate=False)\n",
    "\n",
    "    # Add Diagonal line to Joint axes\n",
    "    x0, x1 = g.ax_joint.get_xlim()\n",
    "    y0, y1 = g.ax_joint.get_ylim()\n",
    "    lims = np.array([max(x0, y0), min(x1, y1)])\n",
    "    g.ax_joint.plot(lims, lims, '-r')\n",
    "    # Add error band of pka ± 1\n",
    "    g.ax_joint.fill_between(lims, lims - 1, lims + 1, color=\"r\", alpha=0.2)\n",
    "\n",
    "    return g\n",
    "\n",
    "def calc_stat_info(y, y_hat, name):\n",
    "\n",
    "    stat_info = f\"\"\"\n",
    "        {name}\n",
    "        $r^2$ = {r2_score(y, y_hat): .2f}\n",
    "        $MAE$ = {mean_absolute_error(y, y_hat): .2f}\n",
    "        $RMSE$ = {calc_rmse(y, y_hat): .2f}\n",
    "        $kl_div$ = {compute_kl_divergence(y_hat,y): .2f}\n",
    "        \"\"\"\n",
    "    \n",
    "    return stat_info\n",
    "\n",
    "def stat_info_dict(df,x_col, y_col,datasets:list):\n",
    "    info_dict = {}\n",
    "    for name in datasets:\n",
    "        data = df[df[\"Dataset\"]==name]\n",
    "        y, y_hat = data[x_col], data[y_col]\n",
    "        info_dict[name] = calc_stat_info(y,y_hat, name)\n",
    "    return info_dict"
   ]
  },
  {
   "cell_type": "code",
   "execution_count": 52,
   "metadata": {},
   "outputs": [
    {
     "data": {
      "image/png": "[encoded data removed]",
      "text/plain": [
       "<Figure size 432x432 with 3 Axes>"
      ]
     },
     "metadata": {},
     "output_type": "display_data"
    }
   ],
   "source": [
    "sns.set_context('paper')\n",
    "set_list = [\"Novartis\", \"Literature\"]\n",
    "d = df_res[df_res[\"Dataset\"].isin(set_list)] \n",
    "# model='GCN_prot_edge'\n",
    "for model in d.columns.drop([\"pKa_true\", \"Dataset\"]):\n",
    "    # g = plot_results(d[d['Dataset']== dataset], 'pKa_true', model)\n",
    "    g = plot_results(d, 'pKa_true', model)\n",
    "    g.set_axis_labels('exp', 'pred')\n",
    "    g.fig.suptitle(f' {model}')\n",
    "    stat_info = stat_info_dict(d,'pKa_true', model, set_list)\n",
    "    g.ax_joint.text(0.25, 1, stat_info['Novartis'], size='x-small', ha='left', va=\"top\", transform = g.ax_joint.transAxes)\n",
    "    # Add stats Literature\n",
    "    g.ax_joint.text(1, 0, stat_info['Literature'], size='x-small', ha='right', va=\"bottom\", transform = g.ax_joint.transAxes)\n",
    "    plt.savefig(f'{imgdir}/regression_{model}.pdf', bbox_inches='tight')\n"
   ]
  },
  {
   "cell_type": "markdown",
   "metadata": {},
   "source": [
    "GCN training progress\n",
    "\n",
    "store training losses in DataFrame and"
   ]
  },
  {
   "cell_type": "code",
   "execution_count": null,
   "metadata": {},
   "outputs": [],
   "source": [
    "for m in list([\"GCNPairSingleConv\",\"GCNPairTwoConv\"]):\n",
    "    df_prog=pd.DataFrame(graph_models[m].checkpoint['progress_table'])\n",
    "#     df_prog=pd.DataFrame(graph_models_cv[x][y][1].checkpoint['progress_table'])\n",
    "    #plot learning\n",
    "    fig, ax = plt.subplots()\n",
    "    fig.set_size_inches(3.125,3.125)\n",
    "    sns.lineplot(x='epoch',y='train_loss', label='Train Loss',data=df_prog,ax=ax)\n",
    "    sns.lineplot(x='epoch',y='validation_loss',label='Validation Loss',data=df_prog,ax=ax)\n",
    "    ax.set_ylabel(\"Loss (MAE)\")\n",
    "    ax.set_xlabel(\"Epoch\")\n",
    "    ax.set_xlim(left=0, right=2000)\n",
    "    ax.set_ylim(top=1.75, bottom=0)\n",
    "#     plt.title(f'training progress of gcn_{x}_{y} model')\n",
    "    plt.savefig(f'{imgdir}/training_progress_gcn_{m}.pdf',bbox_inches='tight')\n",
    "    plt.show()"
   ]
  },
  {
   "cell_type": "markdown",
   "metadata": {},
   "source": [
    "Metrics by tanimoto similarity"
   ]
  },
  {
   "cell_type": "code",
   "execution_count": null,
   "metadata": {},
   "outputs": [],
   "source": [
    "# create dict with df of each test set with a similartiy column added\n",
    "def create_sim_results(df_in, datasets, sim_df=dataset_dfs, smaller_than=True, step_size=0.1):\n",
    "    results_dict = {}\n",
    "    for dataset in datasets:\n",
    "        df = df_in[df_in['Dataset']==dataset].copy()\n",
    "        df['similarity'] = sim_df[dataset].loc[:,'Similarity_max']\n",
    "        df.sort_values(by=['similarity'], inplace=True)\n",
    "\n",
    "        d = df\n",
    "        temp_dict = defaultdict(list)\n",
    "        temp_dict['similarity'] = d[\"similarity\"].unique()\n",
    "        for x in d[\"similarity\"].unique():\n",
    "            if smaller_than:\n",
    "                _d = d[d[\"similarity\"] <= x]\n",
    "            else:\n",
    "                _d = d[d[\"similarity\"] >= x]\n",
    "            for model in _d.columns.drop([\"pKa_true\", \"Dataset\", \"similarity\"]):\n",
    "                temp_dict[model].append(calc_rmse(_d['pKa_true'], _d[model]))\n",
    "        temp_df = pd.DataFrame(temp_dict)\n",
    "        temp_df[\"Dataset\"] = dataset\n",
    "        sims=[]\n",
    "        if smaller_than:\n",
    "            for sim in temp_df['similarity']:\n",
    "                x=1\n",
    "                while sim < x:\n",
    "                    x+= -step_size\n",
    "                if sim == 1:\n",
    "                    sims.append(f'= {round(np.clip(x+step_size,0,1),3)}')\n",
    "                else:\n",
    "                    sims.append(f'< {round(np.clip(x+step_size,0,1),3)}')\n",
    "        else:\n",
    "            for sim in temp_df['similarity']:\n",
    "                x=0\n",
    "                while sim > x:\n",
    "                    x+= step_size\n",
    "                if sim == 1:\n",
    "                    sims.append(f'= {round(np.clip(x+step_size,0,1),3)}')\n",
    "                else:\n",
    "                    sims.append(f'> {round(np.clip(x+step_size,0,1),3)}')\n",
    "        temp_df['group']=sims  \n",
    "        results_dict[dataset] = temp_df\n",
    "    return results_dict"
   ]
  },
  {
   "cell_type": "code",
   "execution_count": null,
   "metadata": {},
   "outputs": [],
   "source": [
    "results_dict = create_sim_results(df_res, ['Novartis', 'Literature'], sim_df=dataset_dfs, smaller_than=True, step_size=0.1)\n",
    "a = pd.concat([results_dict[\"Novartis\"], results_dict[\"Literature\"]], axis=0)\n",
    "for model in df_res.columns.drop([\"pKa_true\", \"Dataset\"]):\n",
    "    sns.scatterplot(data=a, x=\"similarity\", y=model, hue=\"Dataset\")\n",
    "    plt.xlabel('Similarity')\n",
    "    plt.ylabel('RMSE')\n",
    "    plt.title(model)\n",
    "    plt.savefig(f'{imgdir}/RMSE_sim_{model}.pdf')\n",
    "    plt.show()\n",
    "    plt.close()"
   ]
  },
  {
   "cell_type": "code",
   "execution_count": null,
   "metadata": {},
   "outputs": [],
   "source": [
    "for model in df_res.columns.drop([\"pKa_true\", \"Dataset\"]):\n",
    "    ax = sns.catplot(x=\"group\", y=\"GCNPairSingleConv\", hue=\"Dataset\", kind=\"point\", data=a)\n",
    "    plt.xlabel('Similarity')\n",
    "    plt.ylabel('RMSE')\n",
    "    plt.title(model)\n",
    "    plt.savefig(f'{imgdir}/RMSE_sim_intervals_{model}.pdf')\n",
    "    plt.show()\n",
    "    plt.close()"
   ]
  },
  {
   "cell_type": "markdown",
   "metadata": {},
   "source": [
    "\n",
    "Outliers top list"
   ]
  },
  {
   "cell_type": "code",
   "execution_count": null,
   "metadata": {},
   "outputs": [],
   "source": [
    "def get_2d_molecule(m):\n",
    "  copy = Mol(m)\n",
    "  copy.Compute2DCoords(clearConfs=True)\n",
    "  return copy\n",
    "\n",
    "def group_by_range(series, range_list, decimal=1):\n",
    "    group_labels=[]\n",
    "    for x in series:\n",
    "        i=0\n",
    "        while x > range_list[i]:\n",
    "            i+=1\n",
    "        group_labels.append(round(range_list[i],decimal))\n",
    "    return group_labels \n",
    "\n",
    "data_set=['Novartis', 'Literature']\n",
    "best=[True, False]\n",
    "for data_set in data_set:\n",
    "    trues= df_res[df_res.Dataset==data_set].pKa_true\n",
    "    preds= df_res[df_res.Dataset==data_set].GCNPairTwoConv\n",
    "    diffs = []\n",
    "    errors = []\n",
    "    for pred, true in zip(preds,trues):\n",
    "        diffs.append(pred-true)\n",
    "        errors.append(abs(pred-true))\n",
    "    res = pd.concat((pd.DataFrame({'differences':diffs}),pd.DataFrame({'errors':errors}), dataset_dfs['Novartis'].loc[:,('pKa','marvin_atom','protonated', 'deprotonated', 'ID','Similarity_max')]),axis=1)\n",
    "    \n",
    "    res_e=res.loc[:, ('errors','pKa','Similarity_max')]\n",
    "    res_e['pKa']=group_by_range(res_e['pKa'],list(range(2,14,2)))\n",
    "    res_e['Similarity']=group_by_range(res['Similarity_max'],np.arange(0.0,1.2,0.2))\n",
    "    res_e=res_e.loc[:, ('errors','pKa','Similarity')]\n",
    "    res_e=res_e.groupby(['Similarity','pKa']).mean().unstack()\n",
    "#     display(res_e)\n",
    "    \n",
    "    # plt.figure(figsize=(3.125,2.5))\n",
    "    # sns.heatmap(res_e['errors'], cmap='RdYlGn_r', vmin=0,vmax=1.50)\n",
    "    # plt.savefig(f'{imgdir}/error_heatmap_{data_set}.pdf', bbox_inches='tight')\n",
    "    # plt.show()\n",
    "    \n",
    "    for mod in best:    \n",
    "        res.sort_values(by=['errors'], inplace=True, ascending=mod)\n",
    "        num=6\n",
    "        img=Draw.MolsToGridImage(res.protonated[:num].map(get_2d_molecule),\n",
    "                                 molsPerRow=3,\n",
    "                                 subImgSize=(400,350),\n",
    "                                 useSVG=True,\n",
    "                                 highlightAtomLists=[[int(i)] for i in res.marvin_atom[:num]],\n",
    "                                 legends=[f\"error:  {round(x[1],2)}, pKa:  {x[0]}, sim: {x[2]:.3f}\" for x in zip(res.pKa[:num],res.differences[:num], res.Similarity_max[:num])])\n",
    "\n",
    "        display(img)\n",
    "        name_dict={True:'best',False:'outlier'}\n",
    "        with open(f'{imgdir}/grid_{data_set}_{name_dict[mod]}.svg', 'w') as f:\n",
    "            f.write(img.data)\n",
    "    # res.head()"
   ]
  }
 ],
 "metadata": {
  "interpreter": {
   "hash": "2238d854a1993a20f5a2e769920d74e68befec1db0b55829c688fae57b1385d3"
  },
  "kernelspec": {
   "display_name": "Python 3.9.7 64-bit ('pkasolver': conda)",
   "name": "python3"
  },
  "language_info": {
   "codemirror_mode": {
    "name": "ipython",
    "version": 3
   },
   "file_extension": ".py",
   "mimetype": "text/x-python",
   "name": "python",
   "nbconvert_exporter": "python",
   "pygments_lexer": "ipython3",
   "version": "3.9.7"
  }
 },
 "nbformat": 4,
 "nbformat_minor": 4
}
